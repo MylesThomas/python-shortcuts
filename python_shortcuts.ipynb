{
 "cells": [
  {
   "cell_type": "markdown",
   "metadata": {},
   "source": [
    "# Python Shortcuts\n",
    "\n",
    "A file with shortcuts / tips that I have compiled from various Youtube tutorial and other learning resources."
   ]
  },
  {
   "cell_type": "markdown",
   "metadata": {},
   "source": [
    "[DEV Community - Write clean Python code using pylint and black](https://dev.to/saminarp/write-clean-python-code-using-pylint-and-black-17e3)"
   ]
  },
  {
   "cell_type": "markdown",
   "metadata": {},
   "source": [
    "Steps\n",
    "\n",
    "0. Download from pip\n",
    "- pip install pylint black\n",
    "\n",
    "1. Run pylint on file\n",
    "- pylint code.py\n",
    "\n",
    "2. Run black on file\n",
    "- black code.py\n",
    "\n",
    "3. Setup VSCode to use Black\n",
    "- VSCode -> Preferences -> Settings (Ctrl+,)\n",
    "    - python formatting provider: black\n",
    "    - format on save: check box\n"
   ]
  },
  {
   "cell_type": "markdown",
   "metadata": {},
   "source": [
    "[Tech With Tim - 10 Python Shortcuts You Need To Know](https://www.youtube.com/watch?v=CssrFJGH_dU)"
   ]
  },
  {
   "cell_type": "markdown",
   "metadata": {},
   "source": [
    "## 1. F-strings"
   ]
  },
  {
   "cell_type": "code",
   "execution_count": 84,
   "metadata": {},
   "outputs": [
    {
     "name": "stdout",
     "output_type": "stream",
     "text": [
      "Hello Tim\n",
      "Hello Tim\n",
      "Hello Tim\n",
      "Hello Tim [1, 2, 3]\n",
      "\n",
      "Hello Tim\n",
      "[4, 5, 6]\n",
      "\n"
     ]
    }
   ],
   "source": [
    "# F Strings\n",
    "\n",
    "name = \"Tim\"\n",
    "\n",
    "# old\n",
    "print(\"Hello\", name)\n",
    "print(\"Hello \" + name)\n",
    "\n",
    "# new\n",
    "print(f\"Hello {name}\")\n",
    "print(f\"Hello {name} {[1, 2, 3]}\")\n",
    "\n",
    "x = F'''\n",
    "Hello {name}\n",
    "{[4, 5, 6]}\n",
    "'''\n",
    "print(x)"
   ]
  },
  {
   "cell_type": "markdown",
   "metadata": {},
   "source": [
    "## 2. Unpacking"
   ]
  },
  {
   "cell_type": "code",
   "execution_count": 85,
   "metadata": {},
   "outputs": [
    {
     "name": "stdout",
     "output_type": "stream",
     "text": [
      "1 2 3 4 5\n",
      "1 2 3 4 5\n",
      "h e l l o\n",
      "a b\n",
      "1 2\n",
      "('a', 1) ('b', 2)\n",
      "4 5\n"
     ]
    }
   ],
   "source": [
    "# Unpacking\n",
    "tup = (1, 2, 3, 4, 5)\n",
    "\n",
    "lst = [1, 2, 3, 4, 5]\n",
    "\n",
    "string = \"hello\"\n",
    "\n",
    "dic = {\"a\": 1, \"b\": 2}\n",
    "\n",
    "coords = [4, 5]\n",
    "\n",
    "\n",
    "a, b, c, d, e = tup\n",
    "print(a, b, c, d, e)\n",
    "\n",
    "a, b, c, d, e = lst\n",
    "print(a, b, c, d, e)\n",
    "\n",
    "a, b, c, d, e = string\n",
    "print(a, b, c, d, e)\n",
    "\n",
    "a, b = dic # gets keys\n",
    "print(a, b)\n",
    "\n",
    "a, b = dic.values() # gets values\n",
    "print(a, b)\n",
    "\n",
    "a, b = dic.items() # gets tuples\n",
    "print(a, b)\n",
    "\n",
    "# Unpacking coordinates\n",
    "x, y  = coords\n",
    "print(x, y)\n",
    "\n",
    "\n",
    "# The following would be commented out because it is an error:\n",
    "#x,y,z = coords"
   ]
  },
  {
   "cell_type": "markdown",
   "metadata": {},
   "source": [
    "## 3. Multiple Assignment\n",
    "(Variable Swap)"
   ]
  },
  {
   "cell_type": "code",
   "execution_count": 86,
   "metadata": {},
   "outputs": [
    {
     "name": "stdout",
     "output_type": "stream",
     "text": [
      "500 400\n",
      "400 500 5\n"
     ]
    }
   ],
   "source": [
    "# Multiple Assignment\n",
    "\n",
    "width, height = 400, 500\n",
    "\n",
    "# old\n",
    "temp = width\n",
    "width = height\n",
    "height = temp\n",
    "print(width, height)\n",
    "\n",
    "# new\n",
    "width, height, x = height, width, 5\n",
    "print(width, height, x)"
   ]
  },
  {
   "cell_type": "markdown",
   "metadata": {},
   "source": [
    "## 4. Comprehensions"
   ]
  },
  {
   "cell_type": "code",
   "execution_count": 87,
   "metadata": {},
   "outputs": [
    {
     "name": "stdout",
     "output_type": "stream",
     "text": [
      "[0, 2, 4, 6, 8, 10, 12, 14, 16, 18, 20, 22, 24, 26, 28, 30, 32, 34, 36, 38, 40, 42, 44, 46, 48, 50, 52, 54, 56, 58, 60, 62, 64, 66, 68, 70, 72, 74, 76, 78, 80, 82, 84, 86, 88, 90, 92, 94, 96, 98]\n",
      "[0, 0, 0, 0, 0, 0, 0, 0, 0, 0, 0, 1, 2, 3, 4, 5, 6, 7, 8, 9, 0, 2, 4, 6, 8, 10, 12, 14, 16, 18, 0, 3, 6, 9, 12, 15, 18, 21, 24, 27, 0, 4, 8, 12, 16, 20, 24, 28, 32, 36, 0, 5, 10, 15, 20, 25, 30, 35, 40, 45, 0, 6, 12, 18, 24, 30, 36, 42, 48, 54, 0, 7, 14, 21, 28, 35, 42, 49, 56, 63, 0, 8, 16, 24, 32, 40, 48, 56, 64, 72, 0, 9, 18, 27, 36, 45, 54, 63, 72, 81, 0, 10, 20, 30, 40, 50, 60, 70, 80, 90, 0, 11, 22, 33, 44, 55, 66, 77, 88, 99, 0, 12, 24, 36, 48, 60, 72, 84, 96, 108, 0, 13, 26, 39, 52, 65, 78, 91, 104, 117, 0, 14, 28, 42, 56, 70, 84, 98, 112, 126, 0, 15, 30, 45, 60, 75, 90, 105, 120, 135, 0, 16, 32, 48, 64, 80, 96, 112, 128, 144, 0, 17, 34, 51, 68, 85, 102, 119, 136, 153, 0, 18, 36, 54, 72, 90, 108, 126, 144, 162, 0, 19, 38, 57, 76, 95, 114, 133, 152, 171, 0, 20, 40, 60, 80, 100, 120, 140, 160, 180, 0, 21, 42, 63, 84, 105, 126, 147, 168, 189, 0, 22, 44, 66, 88, 110, 132, 154, 176, 198, 0, 23, 46, 69, 92, 115, 138, 161, 184, 207, 0, 24, 48, 72, 96, 120, 144, 168, 192, 216, 0, 25, 50, 75, 100, 125, 150, 175, 200, 225, 0, 26, 52, 78, 104, 130, 156, 182, 208, 234, 0, 27, 54, 81, 108, 135, 162, 189, 216, 243, 0, 28, 56, 84, 112, 140, 168, 196, 224, 252, 0, 29, 58, 87, 116, 145, 174, 203, 232, 261, 0, 30, 60, 90, 120, 150, 180, 210, 240, 270, 0, 31, 62, 93, 124, 155, 186, 217, 248, 279, 0, 32, 64, 96, 128, 160, 192, 224, 256, 288, 0, 33, 66, 99, 132, 165, 198, 231, 264, 297, 0, 34, 68, 102, 136, 170, 204, 238, 272, 306, 0, 35, 70, 105, 140, 175, 210, 245, 280, 315, 0, 36, 72, 108, 144, 180, 216, 252, 288, 324, 0, 37, 74, 111, 148, 185, 222, 259, 296, 333, 0, 38, 76, 114, 152, 190, 228, 266, 304, 342, 0, 39, 78, 117, 156, 195, 234, 273, 312, 351, 0, 40, 80, 120, 160, 200, 240, 280, 320, 360, 0, 41, 82, 123, 164, 205, 246, 287, 328, 369, 0, 42, 84, 126, 168, 210, 252, 294, 336, 378, 0, 43, 86, 129, 172, 215, 258, 301, 344, 387, 0, 44, 88, 132, 176, 220, 264, 308, 352, 396, 0, 45, 90, 135, 180, 225, 270, 315, 360, 405, 0, 46, 92, 138, 184, 230, 276, 322, 368, 414, 0, 47, 94, 141, 188, 235, 282, 329, 376, 423, 0, 48, 96, 144, 192, 240, 288, 336, 384, 432, 0, 49, 98, 147, 196, 245, 294, 343, 392, 441, 0, 50, 100, 150, 200, 250, 300, 350, 400, 450, 0, 51, 102, 153, 204, 255, 306, 357, 408, 459, 0, 52, 104, 156, 208, 260, 312, 364, 416, 468, 0, 53, 106, 159, 212, 265, 318, 371, 424, 477, 0, 54, 108, 162, 216, 270, 324, 378, 432, 486, 0, 55, 110, 165, 220, 275, 330, 385, 440, 495, 0, 56, 112, 168, 224, 280, 336, 392, 448, 504, 0, 57, 114, 171, 228, 285, 342, 399, 456, 513, 0, 58, 116, 174, 232, 290, 348, 406, 464, 522, 0, 59, 118, 177, 236, 295, 354, 413, 472, 531, 0, 60, 120, 180, 240, 300, 360, 420, 480, 540, 0, 61, 122, 183, 244, 305, 366, 427, 488, 549, 0, 62, 124, 186, 248, 310, 372, 434, 496, 558, 0, 63, 126, 189, 252, 315, 378, 441, 504, 567, 0, 64, 128, 192, 256, 320, 384, 448, 512, 576, 0, 65, 130, 195, 260, 325, 390, 455, 520, 585, 0, 66, 132, 198, 264, 330, 396, 462, 528, 594, 0, 67, 134, 201, 268, 335, 402, 469, 536, 603, 0, 68, 136, 204, 272, 340, 408, 476, 544, 612, 0, 69, 138, 207, 276, 345, 414, 483, 552, 621, 0, 70, 140, 210, 280, 350, 420, 490, 560, 630, 0, 71, 142, 213, 284, 355, 426, 497, 568, 639, 0, 72, 144, 216, 288, 360, 432, 504, 576, 648, 0, 73, 146, 219, 292, 365, 438, 511, 584, 657, 0, 74, 148, 222, 296, 370, 444, 518, 592, 666, 0, 75, 150, 225, 300, 375, 450, 525, 600, 675, 0, 76, 152, 228, 304, 380, 456, 532, 608, 684, 0, 77, 154, 231, 308, 385, 462, 539, 616, 693, 0, 78, 156, 234, 312, 390, 468, 546, 624, 702, 0, 79, 158, 237, 316, 395, 474, 553, 632, 711, 0, 80, 160, 240, 320, 400, 480, 560, 640, 720, 0, 81, 162, 243, 324, 405, 486, 567, 648, 729, 0, 82, 164, 246, 328, 410, 492, 574, 656, 738, 0, 83, 166, 249, 332, 415, 498, 581, 664, 747, 0, 84, 168, 252, 336, 420, 504, 588, 672, 756, 0, 85, 170, 255, 340, 425, 510, 595, 680, 765, 0, 86, 172, 258, 344, 430, 516, 602, 688, 774, 0, 87, 174, 261, 348, 435, 522, 609, 696, 783, 0, 88, 176, 264, 352, 440, 528, 616, 704, 792, 0, 89, 178, 267, 356, 445, 534, 623, 712, 801, 0, 90, 180, 270, 360, 450, 540, 630, 720, 810, 0, 91, 182, 273, 364, 455, 546, 637, 728, 819, 0, 92, 184, 276, 368, 460, 552, 644, 736, 828, 0, 93, 186, 279, 372, 465, 558, 651, 744, 837, 0, 94, 188, 282, 376, 470, 564, 658, 752, 846, 0, 95, 190, 285, 380, 475, 570, 665, 760, 855, 0, 96, 192, 288, 384, 480, 576, 672, 768, 864, 0, 97, 194, 291, 388, 485, 582, 679, 776, 873, 0, 98, 196, 294, 392, 490, 588, 686, 784, 882, 0, 99, 198, 297, 396, 495, 594, 693, 792, 891]\n",
      "[[0, 0, 0, 0, 0], [0, 0, 0, 0, 0], [0, 0, 0, 0, 0], [0, 0, 0, 0, 0], [0, 0, 0, 0, 0]]\n",
      "<generator object <genexpr> at 0x000001D3A0B035E0>\n",
      "['h', 'e', 'l', 'l', 'o']\n",
      "{' ': 4, 'e': 2, 'y': 1, 't': 1, 'a': 1, 'l': 2, 'h': 1, 'n': 1, 'i': 2, 'o': 1, 'm': 3, 's': 1}\n"
     ]
    }
   ],
   "source": [
    "# Comprehensions\n",
    "\n",
    "# non-pythonic\n",
    "x = []\n",
    "for i in range(100):\n",
    "    x.append(0)\n",
    "\n",
    "# pythonic\n",
    "x = [i for i in range(100) if i % 2 == 0]\n",
    "print(x)\n",
    "\n",
    "# 2\n",
    "x = [i*j for i in range(100) for j in range(10)]\n",
    "print(x)\n",
    "\n",
    "# nested\n",
    "x = [[0 for _ in range(5)] for _ in range(5)]\n",
    "print(x)\n",
    "\n",
    "# generator\n",
    "x = (i for i in 'hello')\n",
    "print(x)\n",
    "print(list(x))\n",
    "\n",
    "# dict\n",
    "sentence = \"hello my name is tim\"\n",
    "x = {char: sentence.count(char) for char in set(sentence)}\n",
    "print(x)"
   ]
  },
  {
   "cell_type": "markdown",
   "metadata": {},
   "source": [
    "## 5. Object Multiplication"
   ]
  },
  {
   "cell_type": "code",
   "execution_count": 88,
   "metadata": {},
   "outputs": [
    {
     "name": "stdout",
     "output_type": "stream",
     "text": [
      "hellohellohellohellohello\n",
      "[1, 2, 3, 1, 2, 3, 1, 2, 3, 1, 2, 3, 1, 2, 3]\n",
      "[[1, 2, 3], [1, 2, 3], [1, 2, 3], [1, 2, 3], [1, 2, 3]]\n",
      "(1, 2, 1, 2, 1, 2, 1, 2, 1, 2, 1, 2, 1, 2, 1, 2, 1, 2, 1, 2)\n"
     ]
    }
   ],
   "source": [
    "# Object Multiplication\n",
    "x = \"hello\" * 5\n",
    "print(x)\n",
    "\n",
    "# list\n",
    "x = [1,2,3] * 5\n",
    "print(x)\n",
    "\n",
    "# nested list\n",
    "x = [[1,2,3]] * 5\n",
    "print(x)\n",
    "\n",
    "# tuple\n",
    "x = (1, 2) * 10\n",
    "# x = (1, 2) * (1, 2) [cannot do this...]\n",
    "print(x)\n"
   ]
  },
  {
   "cell_type": "markdown",
   "metadata": {},
   "source": [
    "## 6. Inline/Ternary Condition"
   ]
  },
  {
   "cell_type": "code",
   "execution_count": 89,
   "metadata": {},
   "outputs": [
    {
     "name": "stdout",
     "output_type": "stream",
     "text": [
      "0\n"
     ]
    }
   ],
   "source": [
    "# Inline/Ternary Condition\n",
    "x = 1 if 2 > 3 else 0\n",
    "print(x)\n",
    "\n",
    "# Javascript code: \n",
    "# x = 2 > 3 ? 1 : 0"
   ]
  },
  {
   "cell_type": "markdown",
   "metadata": {},
   "source": [
    "## 7. Zip"
   ]
  },
  {
   "cell_type": "code",
   "execution_count": 90,
   "metadata": {},
   "outputs": [
    {
     "name": "stdout",
     "output_type": "stream",
     "text": [
      "<zip object at 0x000001D3A0A98CC0>\n",
      "[('tim', 21, 'blue'), ('joe', 19, 'brown'), ('billy', 18, 'brown'), ('sally', 43, 'green')]\n",
      "[('tim', 21, 'blue'), ('joe', 19, 'brown'), ('billy', 18, 'brown'), ('sally', 43, 'green')]\n",
      "tim\n",
      "blue\n",
      "brown\n",
      "brown\n",
      "sally\n",
      "green\n"
     ]
    }
   ],
   "source": [
    "# Zip\n",
    "\n",
    "names = [\n",
    "    'tim',\n",
    "    'joe',\n",
    "    'billy',\n",
    "    'sally',\n",
    "]\n",
    "\n",
    "ages = [21, 19, 18, 43]\n",
    "\n",
    "# note: notice how 'test' is not printed out\n",
    "eye_color = [\n",
    "    'blue',\n",
    "    'brown',\n",
    "    'brown',\n",
    "    'green',\n",
    "    'test',\n",
    "]\n",
    "\n",
    "print(zip(names, ages, eye_color))\n",
    "print(list(zip(names, ages, eye_color)))\n",
    "print(list(zip(names, ages, eye_color)))\n",
    "\n",
    "for name, age, eye in zip(names, ages, eye_color):\n",
    "    if age > 20:\n",
    "        print(name)\n",
    "    print(eye)"
   ]
  },
  {
   "cell_type": "markdown",
   "metadata": {},
   "source": [
    "## 8. *args and **kwargs\n",
    "\n",
    "*args: unpacks and splits *positional arguments*\n",
    "- used when position matters\n",
    "\n",
    "**kwargs: key arguments\n",
    "- "
   ]
  },
  {
   "cell_type": "code",
   "execution_count": 91,
   "metadata": {},
   "outputs": [
    {
     "name": "stdout",
     "output_type": "stream",
     "text": [
      "\n",
      "old\n",
      "1 2 3\n",
      "\n",
      "*args\n",
      "1 2 3\n",
      "[1, 2, 3]\n",
      "1 2 3\n",
      "\n",
      "**kwargs\n",
      "1 2 3\n",
      "1 2 3\n"
     ]
    }
   ],
   "source": [
    "# *args and **kwargs\n",
    "\n",
    "def func1(arg1, arg2, arg3): # order matters (and you need to pass all of them!)\n",
    "    print(arg1, arg2, arg3)\n",
    "\n",
    "def func2(arg1=None, arg2=None, arg3=None): # order does not matter, plus you do not NEED to pass any\n",
    "    print(arg1, arg2, arg3)\n",
    "\n",
    "\n",
    "args = [1,2,3]\n",
    "kwargs = {\n",
    "    \"arg2\": 2,\n",
    "    \"arg3\": 3,\n",
    "    \"arg1\": 1,\n",
    "}\n",
    "\n",
    "# old\n",
    "print(\"\\nold\")\n",
    "func1(args[0], args[1], args[2])\n",
    "\n",
    "# *args\n",
    "print(f\"\\n*args\")\n",
    "func1(*args)\n",
    "print(args)\n",
    "print(*args) # all 3 are passed into the function\n",
    "\n",
    "\n",
    "# **kwargs\n",
    "print(f\"\\n**kwargs\")\n",
    "func2(arg2=2, arg1=1, arg3=3)\n",
    "func2(**kwargs)\n",
    "\n",
    "# Bonus...\n",
    "# func3(*args, **kwargs)"
   ]
  },
  {
   "cell_type": "markdown",
   "metadata": {},
   "source": [
    "## 9. For Else and While Else\n",
    "\n",
    "Many are not aware of this, myself included!"
   ]
  },
  {
   "cell_type": "code",
   "execution_count": 92,
   "metadata": {},
   "outputs": [
    {
     "name": "stdout",
     "output_type": "stream",
     "text": [
      "I could not find it...\n",
      "I found it!\n",
      "1\n"
     ]
    }
   ],
   "source": [
    "# For Else and While Else\n",
    "\n",
    "search = [1,2,3,4,5,6,7,8,9]\n",
    "target = 69\n",
    "found = False\n",
    "\n",
    "# for loop\n",
    "for element in search:\n",
    "    if element == target:\n",
    "        print(\"I found it!\")\n",
    "        break\n",
    "else:\n",
    "    print(\"I could not find it...\")\n",
    "\n",
    "\n",
    "# while loop\n",
    "target = 1\n",
    "\n",
    "i = 0\n",
    "while i < len(search):\n",
    "    element = search[i]\n",
    "    if element == target:\n",
    "        print(\"I found it!\")\n",
    "        print(element)\n",
    "        break\n",
    "    i += 1\n",
    "else:\n",
    "    print(\"I could not find it...\")"
   ]
  },
  {
   "cell_type": "markdown",
   "metadata": {},
   "source": [
    "## 10. Sort By Key\n",
    "\n",
    "Good for something that a built-in Python function cannot do.\n",
    "- Example: Sorting by 2nd value of nested lists"
   ]
  },
  {
   "cell_type": "code",
   "execution_count": 93,
   "metadata": {},
   "outputs": [
    {
     "name": "stdout",
     "output_type": "stream",
     "text": [
      "[[-1, 3], [1, 2], [2, 3], [3, 4], [4, 2], [4, 69]]\n",
      "[[4, 69], [4, 2], [3, 4], [2, 3], [1, 2], [-1, 3]]\n",
      "[[4, 2], [1, 2], [2, 3], [-1, 3], [3, 4], [4, 69]]\n",
      "[[-1, 3], [1, 2], [2, 3], [4, 2], [3, 4], [4, 69]]\n",
      "[[-1, 3], [1, 2], [2, 3], [4, 2], [3, 4], [4, 69]]\n"
     ]
    },
    {
     "data": {
      "text/plain": [
       "[[-1, 3], [1, 2], [2, 3], [3, 4], [4, 2], [4, 69]]"
      ]
     },
     "execution_count": 93,
     "metadata": {},
     "output_type": "execute_result"
    }
   ],
   "source": [
    "lst = [\n",
    "    [1, 2],\n",
    "    [3, 4],\n",
    "    [4, 2],\n",
    "    [-1, 3],\n",
    "    [4, 69],\n",
    "    [2, 3]\n",
    "]\n",
    "\n",
    "# regular: sorting by first value\n",
    "lst.sort()\n",
    "print(lst)\n",
    "\n",
    "# regular again: but sorting descending\n",
    "lst.sort(reverse=True)\n",
    "print(lst)\n",
    "\n",
    "\n",
    "# lambda function\n",
    "# - key: tells which key to sort by, for each element\n",
    "lst.sort(key=lambda x: x[1])\n",
    "print(lst)\n",
    "\n",
    "# another lambda: sorting by sum of 2 columns\n",
    "lst.sort(key=lambda x: x[0] + x[1])\n",
    "print(lst)\n",
    "\n",
    "# custon function\n",
    "def sort_func(x):\n",
    "    return x[0] + x[1]\n",
    "\n",
    "lst.sort(key=sort_func)\n",
    "print(lst)\n",
    "\n",
    "# using in sorted()\n",
    "sorted(lst) # key=...\n"
   ]
  },
  {
   "cell_type": "markdown",
   "metadata": {},
   "source": [
    "## Bonus: Itertools\n",
    "\n",
    "Itertools: Usually returns an iterator (instead of a data structure)\n",
    "- iterator: an object that “manages” the iteration (traversal) through a data structure\n",
    "- used to save memory\n",
    "\n",
    "accumulate(): Accumulate the values in order\n",
    "- think of a running count\n",
    "- \n",
    "\n",
    "chain(): Only gives you the values that correspond with a `True` condition in another list"
   ]
  },
  {
   "cell_type": "code",
   "execution_count": 100,
   "metadata": {},
   "outputs": [
    {
     "name": "stdout",
     "output_type": "stream",
     "text": [
      "<itertools.accumulate object at 0x000001D3A0A36100>\n",
      "[1, 3, 6, 10, 15]\n",
      "<itertools.chain object at 0x000001D3A06A04C0>\n",
      "[1, 2, 3, 4, 5, 'A', 'B', 'C', 'D']\n",
      "<itertools.compress object at 0x000001D3A06820B0>\n",
      "['Myles', 'Jake', 'J']\n"
     ]
    }
   ],
   "source": [
    "# Bonus - Itertools\n",
    "\n",
    "import itertools\n",
    "\n",
    "# itertools.accumulate()\n",
    "lst = [1,2,3,4,5]\n",
    "sum_list = itertools.accumulate(lst)\n",
    "print(sum_list)\n",
    "print(list(sum_list))\n",
    "\n",
    "# itertools.chain()\n",
    "lst2 = ['A', 'B', 'C', 'D']\n",
    "chain_list = itertools.chain(lst, lst2)\n",
    "print(chain_list)\n",
    "print(list(chain_list))\n",
    "\n",
    "# itertools.compress()\n",
    "names = ['Tim', 'Joe', 'Myles', 'Jake', \"J\"]\n",
    "show = [0, 0, 1, 1, 1]\n",
    "compressed_list = itertools.compress(names, show)\n",
    "print(compressed_list)\n",
    "print(list(compressed_list))\n",
    "\n"
   ]
  }
 ],
 "metadata": {
  "kernelspec": {
   "display_name": "Python 3",
   "language": "python",
   "name": "python3"
  },
  "language_info": {
   "codemirror_mode": {
    "name": "ipython",
    "version": 3
   },
   "file_extension": ".py",
   "mimetype": "text/x-python",
   "name": "python",
   "nbconvert_exporter": "python",
   "pygments_lexer": "ipython3",
   "version": "3.11.3"
  },
  "orig_nbformat": 4
 },
 "nbformat": 4,
 "nbformat_minor": 2
}
